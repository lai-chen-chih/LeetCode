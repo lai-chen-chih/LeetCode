{
 "cells": [
  {
   "cell_type": "code",
   "execution_count": 1,
   "metadata": {},
   "outputs": [],
   "source": [
    "# Definition for a binary tree node.\n",
    "class TreeNode:\n",
    "    def __init__(self, x):\n",
    "        self.val = x\n",
    "        self.left = None\n",
    "        self.right = None\n",
    "def isSameTree(p, q):\n",
    "    def same(p,q):\n",
    "        try:\n",
    "            if p != None or q != None:\n",
    "                if p.val != q.val:\n",
    "                    return False\n",
    "                else:\n",
    "                    return same(p.left,q.left) and same(p.right,q.right)\n",
    "            else:\n",
    "                return True\n",
    "        except:\n",
    "            return False\n",
    "    return same(p,q)"
   ]
  },
  {
   "cell_type": "code",
   "execution_count": 2,
   "metadata": {},
   "outputs": [],
   "source": [
    "p = TreeNode(1)\n",
    "p.left = TreeNode(2)\n",
    "p.right = TreeNode(3)\n",
    "\n",
    "q = TreeNode(1)\n",
    "q.left = TreeNode(2)\n",
    "q.right = TreeNode(3)"
   ]
  },
  {
   "cell_type": "code",
   "execution_count": 3,
   "metadata": {},
   "outputs": [
    {
     "data": {
      "text/plain": [
       "True"
      ]
     },
     "execution_count": 3,
     "metadata": {},
     "output_type": "execute_result"
    }
   ],
   "source": [
    "isSameTree(p, q)"
   ]
  },
  {
   "cell_type": "code",
   "execution_count": 4,
   "metadata": {},
   "outputs": [],
   "source": [
    "p = TreeNode(1)\n",
    "p.left = TreeNode(2)\n",
    "\n",
    "q = TreeNode(1)\n",
    "q.right = TreeNode(2)"
   ]
  },
  {
   "cell_type": "code",
   "execution_count": 5,
   "metadata": {},
   "outputs": [
    {
     "data": {
      "text/plain": [
       "False"
      ]
     },
     "execution_count": 5,
     "metadata": {},
     "output_type": "execute_result"
    }
   ],
   "source": [
    "isSameTree(p, q)"
   ]
  },
  {
   "cell_type": "code",
   "execution_count": 6,
   "metadata": {},
   "outputs": [],
   "source": [
    "p = TreeNode(1)\n",
    "p.left = TreeNode(2)\n",
    "p.right = TreeNode(1)\n",
    "\n",
    "q = TreeNode(1)\n",
    "q.left = TreeNode(1)\n",
    "q.right = TreeNode(2)"
   ]
  },
  {
   "cell_type": "code",
   "execution_count": 7,
   "metadata": {},
   "outputs": [
    {
     "data": {
      "text/plain": [
       "False"
      ]
     },
     "execution_count": 7,
     "metadata": {},
     "output_type": "execute_result"
    }
   ],
   "source": [
    "isSameTree(p, q)"
   ]
  },
  {
   "cell_type": "code",
   "execution_count": null,
   "metadata": {},
   "outputs": [],
   "source": []
  }
 ],
 "metadata": {
  "kernelspec": {
   "display_name": "Python 3",
   "language": "python",
   "name": "python3"
  },
  "language_info": {
   "codemirror_mode": {
    "name": "ipython",
    "version": 3
   },
   "file_extension": ".py",
   "mimetype": "text/x-python",
   "name": "python",
   "nbconvert_exporter": "python",
   "pygments_lexer": "ipython3",
   "version": "3.7.6"
  }
 },
 "nbformat": 4,
 "nbformat_minor": 4
}
