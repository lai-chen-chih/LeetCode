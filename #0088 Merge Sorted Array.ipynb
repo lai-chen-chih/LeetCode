{
 "cells": [
  {
   "cell_type": "code",
   "execution_count": 1,
   "metadata": {},
   "outputs": [],
   "source": [
    "def merge(nums1, m, nums2, n):\n",
    "    if nums2 == []:\n",
    "        pass\n",
    "    elif nums1 == [0]:\n",
    "        nums1[:] = nums2[:]\n",
    "    else:\n",
    "        i, j = 0,0\n",
    "        while i < m+n or j < n:\n",
    "            try:\n",
    "                if nums1[i] > nums2[j]:\n",
    "                    nums1[i+1:] = nums1[i:]\n",
    "                    nums1[i] = nums2[j]\n",
    "                    j += 1\n",
    "            except:\n",
    "                print(nums1,nums2,i,j,m,n)\n",
    "                nums1[j+m:]=nums2[j:]\n",
    "                break\n",
    "            i += 1\n",
    "    return nums1[:m+n]"
   ]
  },
  {
   "cell_type": "code",
   "execution_count": 2,
   "metadata": {},
   "outputs": [
    {
     "name": "stdout",
     "output_type": "stream",
     "text": [
      "[1, 2, 2, 3, 0, 0, 0] [2, 5, 6] 7 1 3 3\n"
     ]
    },
    {
     "data": {
      "text/plain": [
       "[1, 2, 2, 3, 5, 6]"
      ]
     },
     "execution_count": 2,
     "metadata": {},
     "output_type": "execute_result"
    }
   ],
   "source": [
    "merge([1,2,3,0,0,0], 3, [2,5,6], 3)"
   ]
  },
  {
   "cell_type": "code",
   "execution_count": null,
   "metadata": {},
   "outputs": [],
   "source": []
  }
 ],
 "metadata": {
  "kernelspec": {
   "display_name": "Python 3",
   "language": "python",
   "name": "python3"
  },
  "language_info": {
   "codemirror_mode": {
    "name": "ipython",
    "version": 3
   },
   "file_extension": ".py",
   "mimetype": "text/x-python",
   "name": "python",
   "nbconvert_exporter": "python",
   "pygments_lexer": "ipython3",
   "version": "3.7.6"
  }
 },
 "nbformat": 4,
 "nbformat_minor": 4
}
