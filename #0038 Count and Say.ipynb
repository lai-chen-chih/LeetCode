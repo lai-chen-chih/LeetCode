{
 "cells": [
  {
   "cell_type": "code",
   "execution_count": 1,
   "metadata": {},
   "outputs": [],
   "source": [
    "def countAndSay(n):\n",
    "    new_ans = '1'\n",
    "    for k in range(1,n):\n",
    "        old_ans = new_ans\n",
    "        new_ans = ''\n",
    "        ini_index = 0\n",
    "        for i in range(len(old_ans)):\n",
    "            if i < len(old_ans)-1 and old_ans[i] != old_ans[i+1]:\n",
    "                new_ans = new_ans + str(i+1-ini_index) + old_ans[i]\n",
    "                ini_index = i+1\n",
    "            elif i == len(old_ans)-1 and old_ans[i] != old_ans[i-1]:\n",
    "                new_ans = new_ans + str(1) + old_ans[i]\n",
    "            elif i == len(old_ans)-1 and old_ans[i] == old_ans[i-1]:\n",
    "                new_ans = new_ans + str(i+1-ini_index) + old_ans[i]\n",
    "    return new_ans      "
   ]
  },
  {
   "cell_type": "code",
   "execution_count": 2,
   "metadata": {
    "scrolled": true
   },
   "outputs": [
    {
     "data": {
      "text/plain": [
       "'1'"
      ]
     },
     "execution_count": 2,
     "metadata": {},
     "output_type": "execute_result"
    }
   ],
   "source": [
    "countAndSay(1)"
   ]
  },
  {
   "cell_type": "code",
   "execution_count": 3,
   "metadata": {},
   "outputs": [
    {
     "data": {
      "text/plain": [
       "'1211'"
      ]
     },
     "execution_count": 3,
     "metadata": {},
     "output_type": "execute_result"
    }
   ],
   "source": [
    "countAndSay(4)"
   ]
  },
  {
   "cell_type": "code",
   "execution_count": null,
   "metadata": {},
   "outputs": [],
   "source": []
  }
 ],
 "metadata": {
  "kernelspec": {
   "display_name": "Python 3",
   "language": "python",
   "name": "python3"
  },
  "language_info": {
   "codemirror_mode": {
    "name": "ipython",
    "version": 3
   },
   "file_extension": ".py",
   "mimetype": "text/x-python",
   "name": "python",
   "nbconvert_exporter": "python",
   "pygments_lexer": "ipython3",
   "version": "3.7.6"
  }
 },
 "nbformat": 4,
 "nbformat_minor": 4
}
