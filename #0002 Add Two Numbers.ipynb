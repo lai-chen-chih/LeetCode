{
 "cells": [
  {
   "cell_type": "code",
   "execution_count": 1,
   "metadata": {},
   "outputs": [],
   "source": [
    "#   Definition for singly-linked list.\n",
    "class ListNode:\n",
    "        def __init__(self, x):\n",
    "            self.val = x\n",
    "            self.next = None\n",
    "def addTwoNumbers(l1, l2):\n",
    "    l1_num, l2_num = 0,0\n",
    "    i = 0\n",
    "    while l1 != None:\n",
    "        l1_num = l1_num + l1.val*(10**i)\n",
    "        l1 = l1.next\n",
    "        i += 1\n",
    "    j = 0\n",
    "    while l2 != None:\n",
    "        l2_num = l2_num + l2.val*(10**j)\n",
    "        l2 = l2.next\n",
    "        j += 1\n",
    "    l_num = l1_num + l2_num\n",
    "    l_list = [ListNode(int(i)) for i in str(l_num)]\n",
    "    for i in range(1,len(l_list)):\n",
    "        l_list[len(l_list)-i].next = l_list[len(l_list)-i-1]\n",
    "    return l_list[len(l_list)-1]"
   ]
  },
  {
   "cell_type": "code",
   "execution_count": 2,
   "metadata": {},
   "outputs": [],
   "source": [
    "l1 = ListNode(2)\n",
    "l1_second = ListNode(4) \n",
    "l1_third = ListNode(3)\n",
    "l1.next = l1_second\n",
    "l1_second.next = l1_third\n",
    "\n",
    "l2 = ListNode(5)\n",
    "l2_second = ListNode(6) \n",
    "l2_third = ListNode(4)\n",
    "l2.next = l2_second\n",
    "l2_second.next = l2_third"
   ]
  },
  {
   "cell_type": "code",
   "execution_count": 3,
   "metadata": {},
   "outputs": [
    {
     "data": {
      "text/plain": [
       "807"
      ]
     },
     "execution_count": 3,
     "metadata": {},
     "output_type": "execute_result"
    }
   ],
   "source": [
    "def ll_to_value(self):\n",
    "    def getNth(self, index): \n",
    "        current = self # Initialise temp \n",
    "        count = 0 # Index of current node \n",
    "\n",
    "            # Loop while end of linked list is not reached \n",
    "        while (current): \n",
    "            if (count == index): \n",
    "                return current.val \n",
    "            count += 1\n",
    "            current = current.next\n",
    "\n",
    "        # if we get to this line, the caller was asking \n",
    "        # for a non-existent element so we assert fail \n",
    "        # assert(false) \n",
    "        return 0\n",
    "    def getCount(self): \n",
    "        temp = self # Initialise temp \n",
    "        count = 0 # Initialise count \n",
    "\n",
    "        # Loop while end of linked list is not reached \n",
    "        while (temp): \n",
    "            count += 1\n",
    "            temp = temp.next\n",
    "        return count \n",
    "    def list_to_value(numList):\n",
    "        s = ''.join(map(str, numList))\n",
    "        return int(s)\n",
    "    return list_to_value([getNth(self, i) for i in range(getCount(self),-1,-1)])\n",
    "ll_to_value(addTwoNumbers(l1,l2))"
   ]
  },
  {
   "cell_type": "code",
   "execution_count": null,
   "metadata": {},
   "outputs": [],
   "source": []
  }
 ],
 "metadata": {
  "kernelspec": {
   "display_name": "Python 3",
   "language": "python",
   "name": "python3"
  },
  "language_info": {
   "codemirror_mode": {
    "name": "ipython",
    "version": 3
   },
   "file_extension": ".py",
   "mimetype": "text/x-python",
   "name": "python",
   "nbconvert_exporter": "python",
   "pygments_lexer": "ipython3",
   "version": "3.7.6"
  }
 },
 "nbformat": 4,
 "nbformat_minor": 4
}
