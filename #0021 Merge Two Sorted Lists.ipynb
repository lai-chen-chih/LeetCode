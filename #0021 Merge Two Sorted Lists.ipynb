{
 "cells": [
  {
   "cell_type": "code",
   "execution_count": 1,
   "metadata": {},
   "outputs": [],
   "source": [
    "# Definition for singly-linked list.\n",
    "class ListNode:\n",
    "    def __init__(self, x):\n",
    "        self.val = x\n",
    "        self.next = None\n",
    "        \n",
    "def mergeTwoLists(l1, l2):\n",
    "    if l1 == None or l2 == None:\n",
    "        if l1 == None:\n",
    "            return l2\n",
    "        else:\n",
    "            return l1\n",
    "    else:   \n",
    "        ll = ListNode(min(l1.val,l2.val)) \n",
    "        ll_temp = ll\n",
    "        if l1.val <= l2.val:\n",
    "            l1 = l1.next\n",
    "        else:\n",
    "            l2 = l2.next\n",
    "        while l1 != None and l2 != None:\n",
    "            if l1.val <= l2.val:\n",
    "                ll_temp.next = l1\n",
    "                ll_temp = ll_temp.next\n",
    "                l1 = l1.next\n",
    "            else:\n",
    "                ll_temp.next = l2\n",
    "                ll_temp = ll_temp.next\n",
    "                l2 = l2.next \n",
    "        if l1 == None:\n",
    "            ll_temp.next = l2\n",
    "        else:\n",
    "            ll_temp.next = l1\n",
    "        return ll"
   ]
  },
  {
   "cell_type": "code",
   "execution_count": 2,
   "metadata": {},
   "outputs": [],
   "source": [
    "l1 = ListNode(1)\n",
    "l1_second = ListNode(2) \n",
    "l1_third = ListNode(4)\n",
    "l1.next = l1_second\n",
    "l1_second.next = l1_third\n",
    "\n",
    "l2 = ListNode(1)\n",
    "l2_second = ListNode(3) \n",
    "l2_third = ListNode(4)\n",
    "l2.next = l2_second\n",
    "l2_second.next = l2_third"
   ]
  },
  {
   "cell_type": "code",
   "execution_count": 3,
   "metadata": {},
   "outputs": [
    {
     "name": "stdout",
     "output_type": "stream",
     "text": [
      "[1, 1, 2, 3, 4, 4]\n"
     ]
    }
   ],
   "source": [
    "def getNth(self, index): \n",
    "    current = self # Initialise temp \n",
    "    count = 0 # Index of current node \n",
    "\n",
    "        # Loop while end of linked list is not reached \n",
    "    while (current): \n",
    "        if (count == index): \n",
    "            return current.val \n",
    "        count += 1\n",
    "        current = current.next\n",
    "\n",
    "    # if we get to this line, the caller was asking \n",
    "    # for a non-existent element so we assert fail \n",
    "    # assert(false) \n",
    "    return 0\n",
    "def getCount(self): \n",
    "    temp = self # Initialise temp \n",
    "    count = 0 # Initialise count \n",
    "\n",
    "    # Loop while end of linked list is not reached \n",
    "    while (temp): \n",
    "        count += 1\n",
    "        temp = temp.next\n",
    "    return count\n",
    "\n",
    "ll = mergeTwoLists(l1, l2)\n",
    "print([getNth(ll, i) for i in range(getCount(ll))])"
   ]
  },
  {
   "cell_type": "code",
   "execution_count": null,
   "metadata": {},
   "outputs": [],
   "source": []
  }
 ],
 "metadata": {
  "kernelspec": {
   "display_name": "Python 3",
   "language": "python",
   "name": "python3"
  },
  "language_info": {
   "codemirror_mode": {
    "name": "ipython",
    "version": 3
   },
   "file_extension": ".py",
   "mimetype": "text/x-python",
   "name": "python",
   "nbconvert_exporter": "python",
   "pygments_lexer": "ipython3",
   "version": "3.7.6"
  }
 },
 "nbformat": 4,
 "nbformat_minor": 4
}
