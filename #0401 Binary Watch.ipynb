{
 "cells": [
  {
   "cell_type": "code",
   "execution_count": 1,
   "metadata": {},
   "outputs": [],
   "source": [
    "def hour(n):\n",
    "    if n == 0:\n",
    "        return ['0']\n",
    "    elif n == 1:\n",
    "        return ['1','2','4','8']\n",
    "    elif n == 2:\n",
    "        return ['3','5','9','6','10']\n",
    "    elif n == 3:\n",
    "        return ['7','11']\n",
    "def minu(n):\n",
    "    if n == 0:\n",
    "        return ['00']\n",
    "    elif n == 1:\n",
    "        return ['01','02','04','08','16','32']\n",
    "    elif n == 2:\n",
    "        return ['03','05','06','09','10','12','17','18','20','24','33','34','36','40','48']\n",
    "    elif n == 3:\n",
    "        return ['07','11','13','14','19','21','22','25','26','28','35','37','38','41','42','44','49','50','52','56']\n",
    "    elif n == 4:\n",
    "        return ['15','23','27','29','30','39','43','45','46','51','53','54','57','58']\n",
    "    elif n == 5:\n",
    "        return ['31','47','55','59']\n",
    "def readBinaryWatch(num):\n",
    "    ans = []\n",
    "    for i in range(num+1):\n",
    "        j = num - i\n",
    "        if hour(i) == None:\n",
    "            break\n",
    "        for k in hour(i):\n",
    "            if minu(j) == None:\n",
    "                break\n",
    "            for l in minu(j):\n",
    "                ans.append(k+':'+l)\n",
    "    return ans"
   ]
  },
  {
   "cell_type": "code",
   "execution_count": 2,
   "metadata": {},
   "outputs": [
    {
     "data": {
      "text/plain": [
       "['0:01',\n",
       " '0:02',\n",
       " '0:04',\n",
       " '0:08',\n",
       " '0:16',\n",
       " '0:32',\n",
       " '1:00',\n",
       " '2:00',\n",
       " '4:00',\n",
       " '8:00']"
      ]
     },
     "execution_count": 2,
     "metadata": {},
     "output_type": "execute_result"
    }
   ],
   "source": [
    "readBinaryWatch(1)"
   ]
  },
  {
   "cell_type": "code",
   "execution_count": null,
   "metadata": {},
   "outputs": [],
   "source": []
  }
 ],
 "metadata": {
  "kernelspec": {
   "display_name": "Python 3",
   "language": "python",
   "name": "python3"
  },
  "language_info": {
   "codemirror_mode": {
    "name": "ipython",
    "version": 3
   },
   "file_extension": ".py",
   "mimetype": "text/x-python",
   "name": "python",
   "nbconvert_exporter": "python",
   "pygments_lexer": "ipython3",
   "version": "3.7.6"
  }
 },
 "nbformat": 4,
 "nbformat_minor": 4
}
