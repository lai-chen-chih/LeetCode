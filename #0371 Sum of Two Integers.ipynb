{
 "cells": [
  {
   "cell_type": "code",
   "execution_count": 1,
   "metadata": {},
   "outputs": [],
   "source": [
    "def getSum(a, b):\n",
    "    if a >= 0 and b >= 0:\n",
    "        return binsum(a,b)\n",
    "    elif a >= 0 and b < 0 and a > abs(b):\n",
    "        b = abs(b)\n",
    "        return binsub(a,b)\n",
    "    elif a >= 0 and b < 0 and a == abs(b):\n",
    "        return 0\n",
    "    elif a >= 0 and b < 0 and a < abs(b):\n",
    "        b = abs(b)\n",
    "        return ~binsub(binsub(b,a),1)\n",
    "    elif a<0 and b>=0 and abs(a) > b:\n",
    "        a = abs(a)\n",
    "        return ~binsub(self.binsub(a,b),1)\n",
    "    elif a<0 and b>=0 and abs(a) == b:\n",
    "        return 0\n",
    "    elif a<0 and b>=0 and abs(a) < b:\n",
    "        a = abs(a)\n",
    "        return binsub(b,a)\n",
    "    elif a<0 and b<0:\n",
    "        a, b = abs(a), abs(b)\n",
    "        return ~binsub(binsum(a,b),1)\n",
    "def binsub(a,b): # a-b, a>=0, b>=0, and a>=b\n",
    "    a_bin, b_bin = \"{0:b}\".format(a), \"{0:b}\".format(b)\n",
    "    l = max(len(a_bin),len(b_bin))\n",
    "    a_bin, b_bin = a_bin.zfill(l), b_bin.zfill(l)\n",
    "    a_bin, b_bin = list(int(x) for x in a_bin), list(int(x) for x in b_bin)\n",
    "    a_bin.reverse(), b_bin.reverse()\n",
    "    ans_bin = []\n",
    "    carry = 0\n",
    "    for i in range(l):\n",
    "        if (a_bin[i] == 0 and b_bin[i] == 0 and carry == 0) or (a_bin[i] == 1 and b_bin[i] == 1 and carry == 0) or (a_bin[i] == 1 and b_bin[i] == 0 and carry == 1):\n",
    "            ans_bin.append(0)\n",
    "            carry = 0\n",
    "        elif (a_bin[i] == 1 and b_bin[i] == 0 and carry == 0):\n",
    "            ans_bin.append(1)\n",
    "            carry = 0\n",
    "        elif (a_bin[i] == 0 and b_bin[i] == 1 and carry == 1):\n",
    "            ans_bin.append(0)\n",
    "            carry = 1\n",
    "        elif (a_bin[i] == 0 and b_bin[i] == 1 and carry == 0) or (a_bin[i] == 0 and b_bin[i] == 0 and carry == 1) or (a_bin[i] == 1 and b_bin[i] == 1 and carry == 1):\n",
    "            ans_bin.append(1)\n",
    "            carry = 1\n",
    "    ans_bin.reverse()\n",
    "    ans_bin = ''.join(str(x) for x in ans_bin)\n",
    "    ans_bin = '0b{0}'.format(ans_bin)\n",
    "    return int(ans_bin,2)\n",
    "def binsum(a,b): # a>=0 and b>=0\n",
    "    a_bin, b_bin = \"{0:b}\".format(a), \"{0:b}\".format(b)\n",
    "    l = max(len(a_bin),len(b_bin))\n",
    "    a_bin, b_bin = a_bin.zfill(l), b_bin.zfill(l)\n",
    "    a_bin, b_bin = list(int(x) for x in a_bin), list(int(x) for x in b_bin)\n",
    "    a_bin.reverse(), b_bin.reverse()\n",
    "    ans_bin = []\n",
    "    carry = 0\n",
    "    for i in range(l):\n",
    "        if a_bin[i] == 0 and b_bin[i] == 0 and carry == 0:\n",
    "            ans_bin.append(0)\n",
    "            carry = 0\n",
    "        elif (a_bin[i] == 1 and b_bin[i] == 0 and carry == 0) or (a_bin[i] == 0 and b_bin[i] == 1 and carry == 0) or (a_bin[i] == 0 and b_bin[i] == 0 and carry == 1):\n",
    "            ans_bin.append(1)\n",
    "            carry = 0\n",
    "        elif (a_bin[i] == 1 and b_bin[i] == 1 and carry == 0) or (a_bin[i] == 0 and b_bin[i] == 1 and carry == 1) or (a_bin[i] == 1 and b_bin[i] == 0 and carry == 1):\n",
    "            ans_bin.append(0)\n",
    "            carry = 1\n",
    "        elif (a_bin[i] == 1 and b_bin[i] == 1 and carry == 1):\n",
    "            ans_bin.append(1)\n",
    "            carry = 1\n",
    "    if carry == 1:\n",
    "        ans_bin.append(1)\n",
    "    ans_bin.reverse()\n",
    "    ans_bin = ''.join(str(x) for x in ans_bin)\n",
    "    ans_bin = '0b{0}'.format(ans_bin)\n",
    "    return int(ans_bin,2)"
   ]
  },
  {
   "cell_type": "code",
   "execution_count": 2,
   "metadata": {},
   "outputs": [
    {
     "data": {
      "text/plain": [
       "3"
      ]
     },
     "execution_count": 2,
     "metadata": {},
     "output_type": "execute_result"
    }
   ],
   "source": [
    "getSum(1, 2)"
   ]
  },
  {
   "cell_type": "code",
   "execution_count": 3,
   "metadata": {},
   "outputs": [
    {
     "data": {
      "text/plain": [
       "1"
      ]
     },
     "execution_count": 3,
     "metadata": {},
     "output_type": "execute_result"
    }
   ],
   "source": [
    "getSum(-2, 3)"
   ]
  },
  {
   "cell_type": "code",
   "execution_count": null,
   "metadata": {},
   "outputs": [],
   "source": []
  }
 ],
 "metadata": {
  "kernelspec": {
   "display_name": "Python 3",
   "language": "python",
   "name": "python3"
  },
  "language_info": {
   "codemirror_mode": {
    "name": "ipython",
    "version": 3
   },
   "file_extension": ".py",
   "mimetype": "text/x-python",
   "name": "python",
   "nbconvert_exporter": "python",
   "pygments_lexer": "ipython3",
   "version": "3.7.6"
  }
 },
 "nbformat": 4,
 "nbformat_minor": 4
}
