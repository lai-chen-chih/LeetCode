{
 "cells": [
  {
   "cell_type": "code",
   "execution_count": 1,
   "metadata": {},
   "outputs": [],
   "source": [
    "# Definition for a binary tree node.\n",
    "class TreeNode:\n",
    "    def __init__(self, x):\n",
    "        self.val = x\n",
    "        self.left = None\n",
    "        self.right = None\n",
    "\n",
    "def levelOrderBottom(root):\n",
    "    def depth(i,tree):\n",
    "        while tree != None:\n",
    "            i += 1\n",
    "            left_count = depth(i,tree.left)\n",
    "            right_count = depth(i,tree.right)\n",
    "            return max(left_count,right_count)\n",
    "        return i\n",
    "    d = depth(0,root)\n",
    "    def collect(l,i,j,tree):\n",
    "        if (tree.left != None or tree.right != None) and j != i:\n",
    "            if tree.left != None:\n",
    "                collect(l,i,j+1,tree.left)\n",
    "            if tree.right != None:\n",
    "                collect(l,i,j+1,tree.right)\n",
    "        elif j == i:\n",
    "            l.append(tree.val)\n",
    "            return l\n",
    "        return l\n",
    "    li = []\n",
    "    for i in range(d):\n",
    "        li.append(collect([],d-i-1,0,root))    \n",
    "    return li"
   ]
  },
  {
   "cell_type": "code",
   "execution_count": 2,
   "metadata": {},
   "outputs": [],
   "source": [
    "root = TreeNode(3)\n",
    "root.left = TreeNode(9)\n",
    "root.right = TreeNode(20)\n",
    "root.right.left = TreeNode(15)\n",
    "root.right.right = TreeNode(7)"
   ]
  },
  {
   "cell_type": "code",
   "execution_count": 3,
   "metadata": {},
   "outputs": [
    {
     "data": {
      "text/plain": [
       "[[15, 7], [9, 20], [3]]"
      ]
     },
     "execution_count": 3,
     "metadata": {},
     "output_type": "execute_result"
    }
   ],
   "source": [
    "levelOrderBottom(root)"
   ]
  },
  {
   "cell_type": "code",
   "execution_count": null,
   "metadata": {},
   "outputs": [],
   "source": []
  }
 ],
 "metadata": {
  "kernelspec": {
   "display_name": "Python 3",
   "language": "python",
   "name": "python3"
  },
  "language_info": {
   "codemirror_mode": {
    "name": "ipython",
    "version": 3
   },
   "file_extension": ".py",
   "mimetype": "text/x-python",
   "name": "python",
   "nbconvert_exporter": "python",
   "pygments_lexer": "ipython3",
   "version": "3.7.6"
  }
 },
 "nbformat": 4,
 "nbformat_minor": 4
}
