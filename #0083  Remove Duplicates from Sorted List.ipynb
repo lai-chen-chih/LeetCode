{
 "cells": [
  {
   "cell_type": "code",
   "execution_count": 1,
   "metadata": {},
   "outputs": [],
   "source": [
    "# Definition for singly-linked list.\n",
    "class ListNode:\n",
    "    def __init__(self, x):\n",
    "        self.val = x\n",
    "        self.next = None\n",
    "\n",
    "def deleteDuplicates(head):\n",
    "    if head == None:\n",
    "        return head\n",
    "    else:\n",
    "        ans = ListNode(head.val)\n",
    "        temp = ans\n",
    "        while head != None:\n",
    "            record = head.val\n",
    "            head = head.next\n",
    "            try:\n",
    "                if head.val != record:\n",
    "                    temp.next = head\n",
    "                    temp = temp.next\n",
    "            except:\n",
    "                break\n",
    "        if temp != None:\n",
    "            temp.next = None\n",
    "        return ans"
   ]
  },
  {
   "cell_type": "code",
   "execution_count": 2,
   "metadata": {},
   "outputs": [],
   "source": [
    "head = ListNode(1)\n",
    "second = ListNode(1) \n",
    "third = ListNode(2)\n",
    "head.next = second\n",
    "second.next = third\n"
   ]
  },
  {
   "cell_type": "code",
   "execution_count": 3,
   "metadata": {},
   "outputs": [
    {
     "data": {
      "text/plain": [
       "<__main__.ListNode at 0x104a83c50>"
      ]
     },
     "execution_count": 3,
     "metadata": {},
     "output_type": "execute_result"
    }
   ],
   "source": [
    "deleteDuplicates(head)"
   ]
  },
  {
   "cell_type": "code",
   "execution_count": 4,
   "metadata": {},
   "outputs": [],
   "source": [
    "head = ListNode(1)\n",
    "second = ListNode(1) \n",
    "third = ListNode(2)\n",
    "fourth = ListNode(3)\n",
    "fifth = ListNode(3)\n",
    "head.next = second\n",
    "second.next = third\n",
    "third.next = fourth\n",
    "fourth.next = fifth"
   ]
  },
  {
   "cell_type": "code",
   "execution_count": 5,
   "metadata": {},
   "outputs": [
    {
     "data": {
      "text/plain": [
       "<__main__.ListNode at 0x104a9c310>"
      ]
     },
     "execution_count": 5,
     "metadata": {},
     "output_type": "execute_result"
    }
   ],
   "source": [
    "deleteDuplicates(head)"
   ]
  },
  {
   "cell_type": "code",
   "execution_count": null,
   "metadata": {},
   "outputs": [],
   "source": []
  }
 ],
 "metadata": {
  "kernelspec": {
   "display_name": "Python 3",
   "language": "python",
   "name": "python3"
  },
  "language_info": {
   "codemirror_mode": {
    "name": "ipython",
    "version": 3
   },
   "file_extension": ".py",
   "mimetype": "text/x-python",
   "name": "python",
   "nbconvert_exporter": "python",
   "pygments_lexer": "ipython3",
   "version": "3.7.6"
  }
 },
 "nbformat": 4,
 "nbformat_minor": 4
}
