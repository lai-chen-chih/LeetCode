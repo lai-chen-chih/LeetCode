{
 "cells": [
  {
   "cell_type": "code",
   "execution_count": 1,
   "metadata": {},
   "outputs": [],
   "source": [
    "def inttostr(num):\n",
    "    if num == 0:\n",
    "        return '0'\n",
    "    else:\n",
    "        s = ''\n",
    "        while num >= 1:\n",
    "            s += str(num%10)\n",
    "            num = num//10\n",
    "        return s[::-1]\n",
    "def strtoint(s):\n",
    "    num = 0\n",
    "    for i,x in enumerate(s):\n",
    "        num += int(x)*(10**(len(s)-1-i))\n",
    "    return num\n",
    "def addStrings(num1, num2):\n",
    "    return inttostr(strtoint(num1)+strtoint(num2))"
   ]
  },
  {
   "cell_type": "code",
   "execution_count": 2,
   "metadata": {},
   "outputs": [
    {
     "data": {
      "text/plain": [
       "'0'"
      ]
     },
     "execution_count": 2,
     "metadata": {},
     "output_type": "execute_result"
    }
   ],
   "source": [
    "addStrings(\"0\", \"0\")"
   ]
  },
  {
   "cell_type": "code",
   "execution_count": null,
   "metadata": {},
   "outputs": [],
   "source": []
  }
 ],
 "metadata": {
  "kernelspec": {
   "display_name": "Python 3",
   "language": "python",
   "name": "python3"
  },
  "language_info": {
   "codemirror_mode": {
    "name": "ipython",
    "version": 3
   },
   "file_extension": ".py",
   "mimetype": "text/x-python",
   "name": "python",
   "nbconvert_exporter": "python",
   "pygments_lexer": "ipython3",
   "version": "3.7.6"
  }
 },
 "nbformat": 4,
 "nbformat_minor": 4
}
