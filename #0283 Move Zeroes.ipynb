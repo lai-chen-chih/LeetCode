{
 "cells": [
  {
   "cell_type": "code",
   "execution_count": 1,
   "metadata": {},
   "outputs": [],
   "source": [
    "def moveZeroes(nums):\n",
    "    \"\"\"\n",
    "    Do not return anything, modify nums in-place instead.\n",
    "    \"\"\"\n",
    "    i,j = 0,0\n",
    "    while True:\n",
    "        while nums[i] != 0:\n",
    "            i += 1\n",
    "            if i == len(nums):\n",
    "                break\n",
    "        while nums[j] == 0:\n",
    "            j += 1\n",
    "            if j == len(nums):\n",
    "                break\n",
    "        if i == len(nums) or j == len(nums):\n",
    "            break\n",
    "        if i < j:\n",
    "            tmp = nums[i]\n",
    "            nums[i] = nums[j]\n",
    "            nums[j] = tmp\n",
    "        else:\n",
    "            j = i"
   ]
  },
  {
   "cell_type": "code",
   "execution_count": 2,
   "metadata": {},
   "outputs": [],
   "source": [
    "moveZeroes([0,1,0,3,12])"
   ]
  },
  {
   "cell_type": "code",
   "execution_count": null,
   "metadata": {},
   "outputs": [],
   "source": []
  }
 ],
 "metadata": {
  "kernelspec": {
   "display_name": "Python 3",
   "language": "python",
   "name": "python3"
  },
  "language_info": {
   "codemirror_mode": {
    "name": "ipython",
    "version": 3
   },
   "file_extension": ".py",
   "mimetype": "text/x-python",
   "name": "python",
   "nbconvert_exporter": "python",
   "pygments_lexer": "ipython3",
   "version": "3.7.6"
  }
 },
 "nbformat": 4,
 "nbformat_minor": 4
}
