{
 "cells": [
  {
   "cell_type": "code",
   "execution_count": 1,
   "metadata": {},
   "outputs": [],
   "source": [
    "# Binary search \n",
    "def mySqrt(x):\n",
    "    l, r = 0, x\n",
    "    while l <= r:\n",
    "        mid = l + (r-l)//2\n",
    "        if mid * mid <= x < (mid+1)*(mid+1):\n",
    "            return mid\n",
    "        elif x < mid * mid:\n",
    "            r = mid\n",
    "        else:\n",
    "            l = mid + 1"
   ]
  },
  {
   "cell_type": "code",
   "execution_count": 2,
   "metadata": {},
   "outputs": [
    {
     "data": {
      "text/plain": [
       "2"
      ]
     },
     "execution_count": 2,
     "metadata": {},
     "output_type": "execute_result"
    }
   ],
   "source": [
    "mySqrt(4)"
   ]
  },
  {
   "cell_type": "code",
   "execution_count": 3,
   "metadata": {},
   "outputs": [
    {
     "data": {
      "text/plain": [
       "2"
      ]
     },
     "execution_count": 3,
     "metadata": {},
     "output_type": "execute_result"
    }
   ],
   "source": [
    "mySqrt(8)"
   ]
  },
  {
   "cell_type": "code",
   "execution_count": null,
   "metadata": {},
   "outputs": [],
   "source": [
    "def mySqrt(x):\n",
    "    ans = ''\n",
    "    li = []\n",
    "    if len(list(str(x)))%2 == 1:\n",
    "        li.append(list(str(x))[0])\n",
    "        for i in range(1,int(len(list(str(x)))/2)+1):\n",
    "            li.append(list(str(x))[2*i-1] + list(str(x))[2*i])\n",
    "    else:\n",
    "        for i in range(0,int(len(list(str(x)))/2)):\n",
    "            li.append(list(str(x))[2*i] + list(str(x))[2*i+1])\n",
    "    n = 0\n",
    "    while n**2 <= int(li[0]):\n",
    "        n += 1\n",
    "    fst = n - 1\n",
    "    ans = ans + str(fst)\n",
    "    fst_rmd = int(li[0]) - fst**2\n",
    "    def nextdigit(rmd,obj,prev):\n",
    "        total = int(str(rmd) + str(obj))\n",
    "        for n in range(1,11):\n",
    "            if (20*prev + n)*n > total:\n",
    "                new = int(str(prev) + str(n-1))\n",
    "                new_rmd = total - (20*prev + (n-1))*(n-1)\n",
    "                return [new, new_rmd]\n",
    "    rmd, ans = fst_rmd, fst\n",
    "    for i in range(1,len(li)):\n",
    "        ans, rmd = nextdigit(rmd,li[i],ans) \n",
    "    return int(ans)"
   ]
  }
 ],
 "metadata": {
  "kernelspec": {
   "display_name": "Python 3",
   "language": "python",
   "name": "python3"
  },
  "language_info": {
   "codemirror_mode": {
    "name": "ipython",
    "version": 3
   },
   "file_extension": ".py",
   "mimetype": "text/x-python",
   "name": "python",
   "nbconvert_exporter": "python",
   "pygments_lexer": "ipython3",
   "version": "3.7.6"
  }
 },
 "nbformat": 4,
 "nbformat_minor": 4
}
