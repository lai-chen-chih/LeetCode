{
 "cells": [
  {
   "cell_type": "code",
   "execution_count": 1,
   "metadata": {},
   "outputs": [],
   "source": [
    "def addBinary(a, b):\n",
    "    ans = ''\n",
    "    c = int(a) + int(b)\n",
    "    ans_list = [int(i) for i in str(c)]\n",
    "    carry = 0\n",
    "    for i in range(len(ans_list)-1,-1,-1):\n",
    "        add = ans_list[i] + carry\n",
    "        if add >= 2:\n",
    "            carry = 1\n",
    "        else:\n",
    "            carry = 0\n",
    "        ans_list[i] = add%2\n",
    "    if carry == 1:\n",
    "        ans = '1'\n",
    "        for i in range(len(ans_list)):\n",
    "            ans += str(ans_list[i]) \n",
    "    else:\n",
    "        for i in range(len(ans_list)):\n",
    "            ans += str(ans_list[i])\n",
    "    return ans"
   ]
  },
  {
   "cell_type": "code",
   "execution_count": 2,
   "metadata": {
    "scrolled": true
   },
   "outputs": [
    {
     "data": {
      "text/plain": [
       "'100'"
      ]
     },
     "execution_count": 2,
     "metadata": {},
     "output_type": "execute_result"
    }
   ],
   "source": [
    "addBinary(\"11\", \"1\")"
   ]
  },
  {
   "cell_type": "code",
   "execution_count": 3,
   "metadata": {},
   "outputs": [
    {
     "data": {
      "text/plain": [
       "'10101'"
      ]
     },
     "execution_count": 3,
     "metadata": {},
     "output_type": "execute_result"
    }
   ],
   "source": [
    "addBinary(\"1010\", \"1011\")"
   ]
  },
  {
   "cell_type": "code",
   "execution_count": null,
   "metadata": {},
   "outputs": [],
   "source": []
  }
 ],
 "metadata": {
  "kernelspec": {
   "display_name": "Python 3",
   "language": "python",
   "name": "python3"
  },
  "language_info": {
   "codemirror_mode": {
    "name": "ipython",
    "version": 3
   },
   "file_extension": ".py",
   "mimetype": "text/x-python",
   "name": "python",
   "nbconvert_exporter": "python",
   "pygments_lexer": "ipython3",
   "version": "3.7.6"
  }
 },
 "nbformat": 4,
 "nbformat_minor": 4
}
