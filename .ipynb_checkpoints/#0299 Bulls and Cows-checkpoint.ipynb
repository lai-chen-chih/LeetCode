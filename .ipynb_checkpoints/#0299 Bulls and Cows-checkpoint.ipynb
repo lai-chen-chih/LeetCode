{
 "cells": [
  {
   "cell_type": "code",
   "execution_count": 1,
   "metadata": {},
   "outputs": [],
   "source": [
    "def getHint(secret, guess):\n",
    "    a,b = 0,0\n",
    "    for i,x in enumerate(guess):\n",
    "        if x == secret[i]:\n",
    "            a += 1\n",
    "            secret = secret[:i] + \"-\" + secret[i+1:]\n",
    "        else:\n",
    "            for j, y in enumerate(secret):\n",
    "                if y == x:\n",
    "                    if  y == guess[j]:\n",
    "                        pass\n",
    "                    else:\n",
    "                        b += 1\n",
    "                        secret = secret[:j] + \"-\" + secret[j+1:]\n",
    "                        break\n",
    "    return str(a) + 'A' + str(b) + 'B'"
   ]
  },
  {
   "cell_type": "code",
   "execution_count": 2,
   "metadata": {},
   "outputs": [
    {
     "data": {
      "text/plain": [
       "'1A3B'"
      ]
     },
     "execution_count": 2,
     "metadata": {},
     "output_type": "execute_result"
    }
   ],
   "source": [
    "getHint(\"1807\", \"7810\")"
   ]
  },
  {
   "cell_type": "code",
   "execution_count": 3,
   "metadata": {},
   "outputs": [
    {
     "data": {
      "text/plain": [
       "'1A1B'"
      ]
     },
     "execution_count": 3,
     "metadata": {},
     "output_type": "execute_result"
    }
   ],
   "source": [
    "getHint(\"1123\", \"0111\")"
   ]
  },
  {
   "cell_type": "code",
   "execution_count": null,
   "metadata": {},
   "outputs": [],
   "source": []
  }
 ],
 "metadata": {
  "kernelspec": {
   "display_name": "Python 3",
   "language": "python",
   "name": "python3"
  },
  "language_info": {
   "codemirror_mode": {
    "name": "ipython",
    "version": 3
   },
   "file_extension": ".py",
   "mimetype": "text/x-python",
   "name": "python",
   "nbconvert_exporter": "python",
   "pygments_lexer": "ipython3",
   "version": "3.7.6"
  }
 },
 "nbformat": 4,
 "nbformat_minor": 4
}
