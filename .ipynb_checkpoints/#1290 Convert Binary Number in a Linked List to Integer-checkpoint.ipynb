{
 "cells": [
  {
   "cell_type": "code",
   "execution_count": 1,
   "metadata": {},
   "outputs": [],
   "source": [
    "# Definition for singly-linked list.\n",
    "class ListNode:\n",
    "    def __init__(self, val=0, next=None):\n",
    "        self.val = val\n",
    "        self.next = next\n",
    "def getDecimalValue(head):\n",
    "    li = []\n",
    "    while head != None:\n",
    "        li.append(head.val)\n",
    "        head = head.next\n",
    "    li.reverse()\n",
    "    ans = 0\n",
    "    for i, x in enumerate(li):\n",
    "        ans += x*2**i\n",
    "    return ans"
   ]
  },
  {
   "cell_type": "code",
   "execution_count": 2,
   "metadata": {},
   "outputs": [
    {
     "data": {
      "text/plain": [
       "5"
      ]
     },
     "execution_count": 2,
     "metadata": {},
     "output_type": "execute_result"
    }
   ],
   "source": [
    "head = ListNode(1)\n",
    "head.next = ListNode(0)\n",
    "head.next.next = ListNode(1)\n",
    "getDecimalValue(head)"
   ]
  },
  {
   "cell_type": "code",
   "execution_count": 3,
   "metadata": {},
   "outputs": [
    {
     "data": {
      "text/plain": [
       "0"
      ]
     },
     "execution_count": 3,
     "metadata": {},
     "output_type": "execute_result"
    }
   ],
   "source": [
    "head = ListNode(0)\n",
    "getDecimalValue(head)"
   ]
  },
  {
   "cell_type": "code",
   "execution_count": 4,
   "metadata": {},
   "outputs": [
    {
     "data": {
      "text/plain": [
       "1"
      ]
     },
     "execution_count": 4,
     "metadata": {},
     "output_type": "execute_result"
    }
   ],
   "source": [
    "head = ListNode(1)\n",
    "getDecimalValue(head)"
   ]
  },
  {
   "cell_type": "code",
   "execution_count": 5,
   "metadata": {},
   "outputs": [
    {
     "data": {
      "text/plain": [
       "18880"
      ]
     },
     "execution_count": 5,
     "metadata": {},
     "output_type": "execute_result"
    }
   ],
   "source": [
    "head = ListNode(1)\n",
    "head.next = ListNode(0)\n",
    "head.next.next = ListNode(0)\n",
    "head.next.next.next = ListNode(1)\n",
    "head.next.next.next.next = ListNode(0)\n",
    "head.next.next.next.next.next = ListNode(0)\n",
    "head.next.next.next.next.next.next = ListNode(1)\n",
    "head.next.next.next.next.next.next.next = ListNode(1)\n",
    "head.next.next.next.next.next.next.next.next = ListNode(1)\n",
    "head.next.next.next.next.next.next.next.next.next = ListNode(0)\n",
    "head.next.next.next.next.next.next.next.next.next.next = ListNode(0)\n",
    "head.next.next.next.next.next.next.next.next.next.next.next = ListNode(0)\n",
    "head.next.next.next.next.next.next.next.next.next.next.next.next = ListNode(0)\n",
    "head.next.next.next.next.next.next.next.next.next.next.next.next.next = ListNode(0)\n",
    "head.next.next.next.next.next.next.next.next.next.next.next.next.next.next = ListNode(0)\n",
    "getDecimalValue(head)"
   ]
  },
  {
   "cell_type": "code",
   "execution_count": 6,
   "metadata": {},
   "outputs": [
    {
     "data": {
      "text/plain": [
       "0"
      ]
     },
     "execution_count": 6,
     "metadata": {},
     "output_type": "execute_result"
    }
   ],
   "source": [
    "head = ListNode(0)\n",
    "head.next = ListNode(0)\n",
    "getDecimalValue(head)"
   ]
  },
  {
   "cell_type": "code",
   "execution_count": null,
   "metadata": {},
   "outputs": [],
   "source": []
  }
 ],
 "metadata": {
  "kernelspec": {
   "display_name": "Python 3",
   "language": "python",
   "name": "python3"
  },
  "language_info": {
   "codemirror_mode": {
    "name": "ipython",
    "version": 3
   },
   "file_extension": ".py",
   "mimetype": "text/x-python",
   "name": "python",
   "nbconvert_exporter": "python",
   "pygments_lexer": "ipython3",
   "version": "3.7.6"
  }
 },
 "nbformat": 4,
 "nbformat_minor": 4
}
