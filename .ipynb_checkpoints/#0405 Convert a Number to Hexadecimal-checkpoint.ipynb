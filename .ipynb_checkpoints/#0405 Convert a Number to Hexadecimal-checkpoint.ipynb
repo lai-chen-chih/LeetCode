{
 "cells": [
  {
   "cell_type": "code",
   "execution_count": 1,
   "metadata": {},
   "outputs": [],
   "source": [
    "def toHex(num):\n",
    "    if num < 0:\n",
    "        num = 16**8 - abs(num)\n",
    "    elif num == 0:\n",
    "        return '0'\n",
    "    ans = ''\n",
    "    while num > 1:\n",
    "        tmp = int(num/16)\n",
    "        rem = num - tmp*16\n",
    "        if rem < 10:\n",
    "            dig = str(rem)\n",
    "        elif rem == 10:\n",
    "            dig = 'a'\n",
    "        elif rem == 11:\n",
    "            dig = 'b'\n",
    "        elif rem == 12:\n",
    "            dig = 'c'\n",
    "        elif rem == 13:\n",
    "            dig = 'd'\n",
    "        elif rem == 14:\n",
    "            dig = 'e'\n",
    "        elif rem == 15:\n",
    "            dig = 'f'\n",
    "        ans = ans + dig\n",
    "        num = tmp\n",
    "    if num > 0:\n",
    "        ans = ans + str(num)\n",
    "    return ans[::-1]\n"
   ]
  },
  {
   "cell_type": "code",
   "execution_count": 2,
   "metadata": {},
   "outputs": [
    {
     "data": {
      "text/plain": [
       "'1a'"
      ]
     },
     "execution_count": 2,
     "metadata": {},
     "output_type": "execute_result"
    }
   ],
   "source": [
    "toHex(26)"
   ]
  },
  {
   "cell_type": "code",
   "execution_count": 3,
   "metadata": {},
   "outputs": [
    {
     "data": {
      "text/plain": [
       "'ffffffff'"
      ]
     },
     "execution_count": 3,
     "metadata": {},
     "output_type": "execute_result"
    }
   ],
   "source": [
    "toHex(-1)"
   ]
  },
  {
   "cell_type": "code",
   "execution_count": null,
   "metadata": {},
   "outputs": [],
   "source": []
  }
 ],
 "metadata": {
  "kernelspec": {
   "display_name": "Python 3",
   "language": "python",
   "name": "python3"
  },
  "language_info": {
   "codemirror_mode": {
    "name": "ipython",
    "version": 3
   },
   "file_extension": ".py",
   "mimetype": "text/x-python",
   "name": "python",
   "nbconvert_exporter": "python",
   "pygments_lexer": "ipython3",
   "version": "3.7.6"
  }
 },
 "nbformat": 4,
 "nbformat_minor": 4
}
