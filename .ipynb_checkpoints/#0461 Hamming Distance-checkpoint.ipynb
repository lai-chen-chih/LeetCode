{
 "cells": [
  {
   "cell_type": "code",
   "execution_count": 1,
   "metadata": {},
   "outputs": [],
   "source": [
    "def hammingDistance(x, y):\n",
    "    return sum(int(i) for i in bin(x^y)[2:])"
   ]
  },
  {
   "cell_type": "code",
   "execution_count": 2,
   "metadata": {},
   "outputs": [
    {
     "data": {
      "text/plain": [
       "2"
      ]
     },
     "execution_count": 2,
     "metadata": {},
     "output_type": "execute_result"
    }
   ],
   "source": [
    "hammingDistance(1, 4)"
   ]
  },
  {
   "cell_type": "code",
   "execution_count": null,
   "metadata": {},
   "outputs": [],
   "source": [
    "def hammingDistance(x, y):\n",
    "    xbin = bin(x)[2:]\n",
    "    ybin = bin(y)[2:]\n",
    "    if len(xbin) > len(ybin):\n",
    "        while len(xbin) > len(ybin):\n",
    "            ybin = '0' + ybin\n",
    "    elif len(xbin) < len(ybin):\n",
    "        while len(xbin) < len(ybin):\n",
    "            xbin = '0' + xbin\n",
    "    count = 0\n",
    "    for i in range(len(xbin)):\n",
    "        if xbin[i] != ybin[i]:\n",
    "            count += 1\n",
    "    return count"
   ]
  }
 ],
 "metadata": {
  "kernelspec": {
   "display_name": "Python 3",
   "language": "python",
   "name": "python3"
  },
  "language_info": {
   "codemirror_mode": {
    "name": "ipython",
    "version": 3
   },
   "file_extension": ".py",
   "mimetype": "text/x-python",
   "name": "python",
   "nbconvert_exporter": "python",
   "pygments_lexer": "ipython3",
   "version": "3.7.6"
  }
 },
 "nbformat": 4,
 "nbformat_minor": 4
}
