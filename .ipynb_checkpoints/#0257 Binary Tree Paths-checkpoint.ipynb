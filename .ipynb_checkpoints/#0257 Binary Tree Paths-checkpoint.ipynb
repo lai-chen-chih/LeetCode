{
 "cells": [
  {
   "cell_type": "code",
   "execution_count": 1,
   "metadata": {},
   "outputs": [],
   "source": [
    "# Definition for a binary tree node.\n",
    "class TreeNode:\n",
    "    def __init__(self, x):\n",
    "        self.val = x\n",
    "        self.left = None\n",
    "        self.right = None\n",
    "\n",
    "def binaryTreePaths(root):\n",
    "    def treepath(li,root,nums):\n",
    "        if root == None:\n",
    "            return []\n",
    "        else:\n",
    "            nums = nums + [root.val]\n",
    "            if root.left != None and root.right != None:\n",
    "                li = treepath(li,root.left,nums) + treepath(li,root.right,nums)\n",
    "            elif root.left != None and root.right == None:\n",
    "                li = treepath(li,root.left,nums)\n",
    "            elif root.left == None and root.right != None:\n",
    "                li = treepath(li,root.right,nums)\n",
    "            elif root.left == None and root.right == None:\n",
    "                string = \"\"\n",
    "                for i in range(len(nums)):\n",
    "                    string += str(nums[i]) + \"->\"\n",
    "                return li + [string[:-2]]\n",
    "            return li\n",
    "    return treepath([],root,[])"
   ]
  },
  {
   "cell_type": "code",
   "execution_count": 2,
   "metadata": {},
   "outputs": [],
   "source": [
    "root = TreeNode(1)\n",
    "root.left = TreeNode(2)\n",
    "root.right = TreeNode(3)\n",
    "root.left.right = TreeNode(5)"
   ]
  },
  {
   "cell_type": "code",
   "execution_count": 3,
   "metadata": {},
   "outputs": [
    {
     "data": {
      "text/plain": [
       "['1->2->5', '1->3']"
      ]
     },
     "execution_count": 3,
     "metadata": {},
     "output_type": "execute_result"
    }
   ],
   "source": [
    "binaryTreePaths(root)"
   ]
  },
  {
   "cell_type": "code",
   "execution_count": null,
   "metadata": {},
   "outputs": [],
   "source": []
  }
 ],
 "metadata": {
  "kernelspec": {
   "display_name": "Python 3",
   "language": "python",
   "name": "python3"
  },
  "language_info": {
   "codemirror_mode": {
    "name": "ipython",
    "version": 3
   },
   "file_extension": ".py",
   "mimetype": "text/x-python",
   "name": "python",
   "nbconvert_exporter": "python",
   "pygments_lexer": "ipython3",
   "version": "3.7.6"
  }
 },
 "nbformat": 4,
 "nbformat_minor": 4
}
