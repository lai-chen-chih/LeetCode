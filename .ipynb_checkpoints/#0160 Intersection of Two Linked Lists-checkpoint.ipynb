{
 "cells": [
  {
   "cell_type": "code",
   "execution_count": 1,
   "metadata": {},
   "outputs": [],
   "source": [
    "# Definition for singly-linked list.\n",
    "class ListNode:\n",
    "    def __init__(self, x):\n",
    "        self.val = x\n",
    "        self.next = None\n",
    "\n",
    "def getIntersectionNode(headA, headB):\n",
    "    tmpA = []\n",
    "    tmpB = []\n",
    "    while headA != None and headB != None:\n",
    "        if headA in tmpB:\n",
    "            return headA\n",
    "        tmpA.append(headA)\n",
    "        headA = headA.next\n",
    "        if headB in tmpA:\n",
    "            return headB\n",
    "        tmpB.append(headB)\n",
    "        headB = headB.next\n",
    "    if headA != None:\n",
    "        while headA != None:\n",
    "            if headA in tmpB:\n",
    "                return headA\n",
    "            headA = headA.next\n",
    "    if headB != None:\n",
    "        while headB != None:\n",
    "            if headB in tmpA:\n",
    "                return headB\n",
    "            headB = headB.next"
   ]
  },
  {
   "cell_type": "code",
   "execution_count": 2,
   "metadata": {},
   "outputs": [],
   "source": [
    "headA = ListNode(4)\n",
    "headA.next = ListNode(1)\n",
    "headA.next.next = ListNode(8)\n",
    "headA.next.next.next = ListNode(4)\n",
    "headA.next.next.next.next = ListNode(5)\n",
    "headB = ListNode(5)\n",
    "headB.next = ListNode(0)\n",
    "headB.next.next = ListNode(1)\n",
    "headB.next.next.next = headA.next.next"
   ]
  },
  {
   "cell_type": "code",
   "execution_count": 3,
   "metadata": {},
   "outputs": [
    {
     "data": {
      "text/plain": [
       "<__main__.ListNode at 0x105994e50>"
      ]
     },
     "execution_count": 3,
     "metadata": {},
     "output_type": "execute_result"
    }
   ],
   "source": [
    "getIntersectionNode(headA, headB)"
   ]
  },
  {
   "cell_type": "code",
   "execution_count": 4,
   "metadata": {},
   "outputs": [],
   "source": [
    "headA = ListNode(0)\n",
    "headA.next = ListNode(9)\n",
    "headA.next.next = ListNode(1)\n",
    "headA.next.next.next = ListNode(2)\n",
    "headA.next.next.next.next = ListNode(4)\n",
    "headB = ListNode(3)\n",
    "headB.next = headA.next.next.next"
   ]
  },
  {
   "cell_type": "code",
   "execution_count": 5,
   "metadata": {},
   "outputs": [
    {
     "data": {
      "text/plain": [
       "<__main__.ListNode at 0x1059b2890>"
      ]
     },
     "execution_count": 5,
     "metadata": {},
     "output_type": "execute_result"
    }
   ],
   "source": [
    "getIntersectionNode(headA, headB)"
   ]
  },
  {
   "cell_type": "code",
   "execution_count": 6,
   "metadata": {},
   "outputs": [],
   "source": [
    "headA = ListNode(2)\n",
    "headA.next = ListNode(6)\n",
    "headA.next.next = ListNode(4)\n",
    "headB = ListNode(1)\n",
    "headB.next = ListNode(5)"
   ]
  },
  {
   "cell_type": "code",
   "execution_count": 7,
   "metadata": {},
   "outputs": [],
   "source": [
    "getIntersectionNode(headA, headB)"
   ]
  },
  {
   "cell_type": "code",
   "execution_count": 8,
   "metadata": {},
   "outputs": [],
   "source": [
    "# Definition for singly-linked list.\n",
    "class ListNode:\n",
    "    def __init__(self, x):\n",
    "        self.val = x\n",
    "        self.next = None\n",
    "\n",
    "def getIntersectionNode(headA, headB):\n",
    "    if headA == None or headB == None:\n",
    "        return None\n",
    "    else:\n",
    "        tmpA = headA\n",
    "        tmpB = headB\n",
    "        while tmpA != tmpB:\n",
    "            if tmpA != None:\n",
    "                tmpA = tmpA.next\n",
    "            else:\n",
    "                tmpA = headB\n",
    "            if tmpB!= None:\n",
    "                tmpB = tmpB.next\n",
    "            else:\n",
    "                tmpB = headA\n",
    "        return tmpA"
   ]
  },
  {
   "cell_type": "code",
   "execution_count": null,
   "metadata": {},
   "outputs": [],
   "source": []
  }
 ],
 "metadata": {
  "kernelspec": {
   "display_name": "Python 3",
   "language": "python",
   "name": "python3"
  },
  "language_info": {
   "codemirror_mode": {
    "name": "ipython",
    "version": 3
   },
   "file_extension": ".py",
   "mimetype": "text/x-python",
   "name": "python",
   "nbconvert_exporter": "python",
   "pygments_lexer": "ipython3",
   "version": "3.7.6"
  }
 },
 "nbformat": 4,
 "nbformat_minor": 4
}
