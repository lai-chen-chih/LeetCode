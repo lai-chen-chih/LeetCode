{
 "cells": [
  {
   "cell_type": "code",
   "execution_count": 1,
   "metadata": {},
   "outputs": [],
   "source": [
    "def maxProfit(prices):\n",
    "    if len(prices) <= 1:\n",
    "        return 0\n",
    "    elif len(prices) == 2:\n",
    "        return max(0,li[1]-li[0])\n",
    "    else:\n",
    "        max_idx = prices.index(max(prices))\n",
    "        min_idx = prices.index(min(prices))\n",
    "        if min_idx <= max_idx:\n",
    "            return max(prices) - min(prices)\n",
    "        else:\n",
    "            if len(prices[:max_idx+1]) > 1 and len(prices[min_idx:]) > 1:\n",
    "                return max(maxProfit(prices[:max_idx+1]),maxProfit(prices[max_idx+1:min_idx]),maxProfit(prices[min_idx:]))\n",
    "            elif len(prices[:max_idx+1]) == 1 and len(prices[min_idx:]) > 1:\n",
    "                return max(maxProfit(prices[max_idx+1:min_idx]),maxProfit(prices[min_idx:]))\n",
    "            elif len(prices[:max_idx+1]) > 1 and len(prices[min_idx:]) == 1:\n",
    "                return max(maxProfit(li[:max_idx+1]),maxProfit(li[max_idx+1:min_idx]))\n",
    "            elif len(prices[:max_idx+1]) == 1 and len(prices[min_idx:]) == 1:\n",
    "                return maxProfit(prices[max_idx+1:min_idx])"
   ]
  },
  {
   "cell_type": "code",
   "execution_count": 2,
   "metadata": {},
   "outputs": [
    {
     "data": {
      "text/plain": [
       "5"
      ]
     },
     "execution_count": 2,
     "metadata": {},
     "output_type": "execute_result"
    }
   ],
   "source": [
    "maxProfit([7,1,5,3,6,4])"
   ]
  },
  {
   "cell_type": "code",
   "execution_count": 3,
   "metadata": {},
   "outputs": [
    {
     "data": {
      "text/plain": [
       "0"
      ]
     },
     "execution_count": 3,
     "metadata": {},
     "output_type": "execute_result"
    }
   ],
   "source": [
    "maxProfit([7,6,4,3,1])"
   ]
  },
  {
   "cell_type": "code",
   "execution_count": null,
   "metadata": {},
   "outputs": [],
   "source": []
  }
 ],
 "metadata": {
  "kernelspec": {
   "display_name": "Python 3",
   "language": "python",
   "name": "python3"
  },
  "language_info": {
   "codemirror_mode": {
    "name": "ipython",
    "version": 3
   },
   "file_extension": ".py",
   "mimetype": "text/x-python",
   "name": "python",
   "nbconvert_exporter": "python",
   "pygments_lexer": "ipython3",
   "version": "3.7.6"
  }
 },
 "nbformat": 4,
 "nbformat_minor": 4
}
