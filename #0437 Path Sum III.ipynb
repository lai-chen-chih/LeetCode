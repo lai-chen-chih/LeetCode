{
 "cells": [
  {
   "cell_type": "code",
   "execution_count": 1,
   "metadata": {},
   "outputs": [],
   "source": [
    "# Definition for a binary tree node.\n",
    "class TreeNode:\n",
    "    def __init__(self, val=0, left=None, right=None):\n",
    "        self.val = val\n",
    "        self.left = left\n",
    "        self.right = right\n",
    "def pathSum(root, sum):\n",
    "    def pathsum(tree, target, num, prev):\n",
    "        if tree != None:\n",
    "            if prev == 0:\n",
    "                if target == tree.val:\n",
    "                    num = 1 + pathsum(tree.left, target, 0, 0) + pathsum(tree.right, target, 0, 0) + pathsum(tree.left, target-tree.val, 0, 1) + pathsum(tree.right, target-tree.val, 0, 1)\n",
    "                else: \n",
    "                    num = pathsum(tree.left, target, 0, 0) + pathsum(tree.right, target, 0, 0) + pathsum(tree.left, target-tree.val, 0, 1) + pathsum(tree.right, target-tree.val, 0, 1)\n",
    "            elif prev == 1:\n",
    "                if target == tree.val:\n",
    "                    num = 1 + pathsum(tree.left, target-tree.val, 0, 1) + pathsum(tree.right, target-tree.val, 0, 1)\n",
    "                else:\n",
    "                    num = pathsum(tree.left, target-tree.val, 0, 1) + pathsum(tree.right, target-tree.val, 0, 1)\n",
    "        return num\n",
    "    return pathsum(root, sum, 0, 0)"
   ]
  },
  {
   "cell_type": "code",
   "execution_count": 2,
   "metadata": {},
   "outputs": [],
   "source": [
    "root = TreeNode(10)\n",
    "root.left = TreeNode(5)\n",
    "root.right = TreeNode(-3)\n",
    "root.left.left = TreeNode(3)\n",
    "root.left.right = TreeNode(2)\n",
    "root.right.right = TreeNode(11)\n",
    "root.left.left.left = TreeNode(3)\n",
    "root.left.left.right = TreeNode(-2)\n",
    "root.left.right.right = TreeNode(1)\n",
    "sum = 8"
   ]
  },
  {
   "cell_type": "code",
   "execution_count": 3,
   "metadata": {},
   "outputs": [
    {
     "data": {
      "text/plain": [
       "3"
      ]
     },
     "execution_count": 3,
     "metadata": {},
     "output_type": "execute_result"
    }
   ],
   "source": [
    "pathSum(root, sum)"
   ]
  },
  {
   "cell_type": "code",
   "execution_count": null,
   "metadata": {},
   "outputs": [],
   "source": []
  }
 ],
 "metadata": {
  "kernelspec": {
   "display_name": "Python 3",
   "language": "python",
   "name": "python3"
  },
  "language_info": {
   "codemirror_mode": {
    "name": "ipython",
    "version": 3
   },
   "file_extension": ".py",
   "mimetype": "text/x-python",
   "name": "python",
   "nbconvert_exporter": "python",
   "pygments_lexer": "ipython3",
   "version": "3.7.6"
  }
 },
 "nbformat": 4,
 "nbformat_minor": 4
}
