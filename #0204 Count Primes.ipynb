{
 "cells": [
  {
   "cell_type": "code",
   "execution_count": 1,
   "metadata": {},
   "outputs": [],
   "source": [
    "def countPrimes(n): \n",
    "    def isPrime(n):\n",
    "        for i in range(2,int(n**(0.5))+1):\n",
    "            if n%i == 0:\n",
    "                return False\n",
    "        return True\n",
    "    ans = 0\n",
    "    for i in range(2,n):\n",
    "        ans += isPrime(i)\n",
    "    return ans"
   ]
  },
  {
   "cell_type": "code",
   "execution_count": 2,
   "metadata": {},
   "outputs": [
    {
     "data": {
      "text/plain": [
       "4"
      ]
     },
     "execution_count": 2,
     "metadata": {},
     "output_type": "execute_result"
    }
   ],
   "source": [
    "countPrimes(10)"
   ]
  },
  {
   "cell_type": "code",
   "execution_count": null,
   "metadata": {},
   "outputs": [],
   "source": [
    "def countPrimes(n): \n",
    "    if n <=1 :\n",
    "        return 0\n",
    "    else:\n",
    "        primes = [True] * n\n",
    "        primes[0] = primes[1] = False\n",
    "        for i in range(2, int(n**(0.5))+1):\n",
    "            if primes[i]:\n",
    "                primes[2*i:n:i] = [False] * len(primes[2*i:n:i])\n",
    "        return sum(primes)"
   ]
  }
 ],
 "metadata": {
  "kernelspec": {
   "display_name": "Python 3",
   "language": "python",
   "name": "python3"
  },
  "language_info": {
   "codemirror_mode": {
    "name": "ipython",
    "version": 3
   },
   "file_extension": ".py",
   "mimetype": "text/x-python",
   "name": "python",
   "nbconvert_exporter": "python",
   "pygments_lexer": "ipython3",
   "version": "3.7.6"
  }
 },
 "nbformat": 4,
 "nbformat_minor": 4
}
