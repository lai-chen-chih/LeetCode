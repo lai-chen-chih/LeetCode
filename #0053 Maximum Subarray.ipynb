{
 "cells": [
  {
   "cell_type": "code",
   "execution_count": 1,
   "metadata": {},
   "outputs": [],
   "source": [
    "def maxSubArray(nums):\n",
    "    ans = nums[0]\n",
    "    sums = 0\n",
    "    for x in nums:\n",
    "        if sums < 0:\n",
    "            sums = x\n",
    "        else:\n",
    "            sums = sums + x\n",
    "        if sums > ans:\n",
    "            ans = sums\n",
    "    return ans"
   ]
  },
  {
   "cell_type": "code",
   "execution_count": 2,
   "metadata": {},
   "outputs": [
    {
     "data": {
      "text/plain": [
       "6"
      ]
     },
     "execution_count": 2,
     "metadata": {},
     "output_type": "execute_result"
    }
   ],
   "source": [
    "maxSubArray([-2,1,-3,4,-1,2,1,-5,4])"
   ]
  },
  {
   "cell_type": "code",
   "execution_count": 3,
   "metadata": {},
   "outputs": [],
   "source": [
    "def DivideandConquer(nums):\n",
    "    if len(nums) == 1:\n",
    "        return nums[0]\n",
    "    else:\n",
    "        mid_index = int(len(nums)/2)\n",
    "        left = DivideandConquer(nums[:mid_index])\n",
    "        right = DivideandConquer(nums[mid_index:])\n",
    "        msum_mid = nums[mid_index]; temp_msum_mid = msum_mid\n",
    "        for i in range(mid_index-1,-1,-1):\n",
    "            temp_msum_mid += nums[i]\n",
    "            msum_mid = max(msum_mid,temp_msum_mid)\n",
    "        temp_msum_mid = msum_mid\n",
    "        for j in range(mid_index+1,len(nums)):\n",
    "            temp_msum_mid += nums[j]\n",
    "            msum_mid = max(msum_mid,temp_msum_mid)\n",
    "        return max(left,right,msum_mid)"
   ]
  },
  {
   "cell_type": "code",
   "execution_count": 4,
   "metadata": {},
   "outputs": [
    {
     "data": {
      "text/plain": [
       "6"
      ]
     },
     "execution_count": 4,
     "metadata": {},
     "output_type": "execute_result"
    }
   ],
   "source": [
    "DivideandConquer([-2,1,-3,4,-1,2,1,-5,4])"
   ]
  },
  {
   "cell_type": "code",
   "execution_count": null,
   "metadata": {},
   "outputs": [],
   "source": []
  }
 ],
 "metadata": {
  "kernelspec": {
   "display_name": "Python 3",
   "language": "python",
   "name": "python3"
  },
  "language_info": {
   "codemirror_mode": {
    "name": "ipython",
    "version": 3
   },
   "file_extension": ".py",
   "mimetype": "text/x-python",
   "name": "python",
   "nbconvert_exporter": "python",
   "pygments_lexer": "ipython3",
   "version": "3.7.6"
  }
 },
 "nbformat": 4,
 "nbformat_minor": 4
}
