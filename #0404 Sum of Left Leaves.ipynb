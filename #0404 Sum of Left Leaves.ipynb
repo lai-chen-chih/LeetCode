{
 "cells": [
  {
   "cell_type": "code",
   "execution_count": 1,
   "metadata": {},
   "outputs": [],
   "source": [
    "# Definition for a binary tree node.\n",
    "class TreeNode:\n",
    "    def __init__(self, val=0, left=None, right=None):\n",
    "        self.val = val\n",
    "        self.left = left\n",
    "        self.right = right\n",
    "def sumleftleaves(s,det,tree):\n",
    "    while tree.left != None or tree.right != None:\n",
    "        if tree.left != None and tree.right != None:\n",
    "            return sumleftleaves(s,'l',tree.left) + sumleftleaves(s,'r',tree.right)\n",
    "        elif tree.left != None and tree.right == None:\n",
    "            return sumleftleaves(s,'l',tree.left)\n",
    "        elif tree.left == None and tree.right != None:\n",
    "            det = 'r'\n",
    "            return sumleftleaves(s,'r',tree.right)\n",
    "    if det == 'l':\n",
    "        return tree.val\n",
    "    elif det == 'r':\n",
    "        return 0\n",
    "def sumOfLeftLeaves(root):\n",
    "    if root == None or root.left == None and root.right == None:\n",
    "        return 0\n",
    "    else:\n",
    "        return sumleftleaves(0,'',root)"
   ]
  },
  {
   "cell_type": "code",
   "execution_count": 2,
   "metadata": {},
   "outputs": [],
   "source": [
    "root = TreeNode(3)\n",
    "root.left = TreeNode(9)\n",
    "root.right = TreeNode(20)\n",
    "root.right.left = TreeNode(15)\n",
    "root.right.right = TreeNode(7)"
   ]
  },
  {
   "cell_type": "code",
   "execution_count": 3,
   "metadata": {},
   "outputs": [
    {
     "data": {
      "text/plain": [
       "24"
      ]
     },
     "execution_count": 3,
     "metadata": {},
     "output_type": "execute_result"
    }
   ],
   "source": [
    "sumOfLeftLeaves(root)"
   ]
  },
  {
   "cell_type": "code",
   "execution_count": null,
   "metadata": {},
   "outputs": [],
   "source": []
  }
 ],
 "metadata": {
  "kernelspec": {
   "display_name": "Python 3",
   "language": "python",
   "name": "python3"
  },
  "language_info": {
   "codemirror_mode": {
    "name": "ipython",
    "version": 3
   },
   "file_extension": ".py",
   "mimetype": "text/x-python",
   "name": "python",
   "nbconvert_exporter": "python",
   "pygments_lexer": "ipython3",
   "version": "3.7.6"
  }
 },
 "nbformat": 4,
 "nbformat_minor": 4
}
